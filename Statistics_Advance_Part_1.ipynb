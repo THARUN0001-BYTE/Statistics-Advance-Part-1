{
  "nbformat": 4,
  "nbformat_minor": 0,
  "metadata": {
    "colab": {
      "provenance": []
    },
    "kernelspec": {
      "name": "python3",
      "display_name": "Python 3"
    },
    "language_info": {
      "name": "python"
    }
  },
  "cells": [
    {
      "cell_type": "markdown",
      "source": [
        "# **Statistics Advance Part 1**"
      ],
      "metadata": {
        "id": "AvxVqZ-P-Sq4"
      }
    },
    {
      "cell_type": "markdown",
      "source": [
        "**1.  What is a random variable in probability theory?**\n",
        "\n",
        "**Answer**: In probability theory, a random variable is a variable that represents the possible outcomes of a random experiment. It is a function that assigns a numerical value to each outcome in a sample space.\n",
        "\n",
        "**Types of Random Variables:**\n",
        "\n",
        "1. Discrete Random Variable: Takes on a countable number of distinct values (e.g., number of heads in 3 coin tosses).\n",
        "\n",
        "2. Continuous Random Variable: Takes on any value within a given interval (e.g., the exact time a train arrives)."
      ],
      "metadata": {
        "id": "-g9IL0FC-Wfh"
      }
    },
    {
      "cell_type": "markdown",
      "source": [
        "\n",
        "\n",
        "---\n",
        "\n"
      ],
      "metadata": {
        "id": "Crh-hW5N-1lF"
      }
    },
    {
      "cell_type": "markdown",
      "source": [
        "**2.  What are the types of random variables?**\n",
        "\n",
        "**Answer:** There are two main types of random variables in probability theory.\n",
        "\n",
        "**1. Discrete Random Variable**\n",
        "\n",
        "Definition: Takes on a finite or countably infinite set of distinct values.\n",
        "\n",
        "Examples:\n",
        "\n",
        "Number of heads in 5 coin tosses.\n",
        "\n",
        "Number of students in a classroom.\n",
        "\n",
        "Outcome of rolling a die: {1, 2, 3, 4, 5, 6}.\n",
        "\n",
        "Described by: Probability Mass Function (PMF), which gives the probability that the variable takes a specific value.\n",
        "\n",
        "**2. Continuous Random Variable**\n",
        "\n",
        "Definition: Takes on any real value in an interval or collection of intervals (uncountably infinite).\n",
        "\n",
        "Examples:\n",
        "\n",
        "Time it takes to run a marathon.\n",
        "\n",
        "Temperature at noon tomorrow.\n",
        "\n",
        "Height of a person.\n",
        "\n",
        "Described by: Probability Density Function (PDF), and probabilities are calculated over intervals, not specific values:"
      ],
      "metadata": {
        "id": "MHYk84MN_xpf"
      }
    },
    {
      "cell_type": "markdown",
      "source": [
        "\n",
        "\n",
        "---\n",
        "\n"
      ],
      "metadata": {
        "id": "gv3qxmmtAJhB"
      }
    },
    {
      "cell_type": "markdown",
      "source": [
        "**3. What is the difference between discrete and continuous distributions?**\n",
        "\n",
        "**Answer:** The difference between discrete and continuous distributions lies in the type of random variable they describe and how probability is assigned to outcomes.\n",
        "\n",
        "**1. Discrete Distribution**\n",
        "\n",
        "Applies to: Discrete random variables (countable outcomes).\n",
        "\n",
        "Probability: Assigned to specific values.\n",
        "\n",
        "Uses: Probability Mass Function (PMF).\n",
        "\n",
        "Total probability: The sum of all individual probabilities equals 1.\n",
        "\n",
        "Examples:\n",
        "\n",
        "Binomial distribution (e.g., number of heads in 10 coin tosses).\n",
        "\n",
        "Poisson distribution (e.g., number of emails received per hour).\n",
        "\n",
        "**2. Continuous Distribution**\n",
        "\n",
        "Applies to: Continuous random variables (uncountable outcomes over intervals).\n",
        "\n",
        "Probability: Assigned to intervals, not specific points.\n",
        "\n",
        "Uses: Probability Density Function (PDF).\n",
        "\n",
        "Total probability: The area under the curve of the PDF equals 1.\n",
        "\n",
        "Examples:\n",
        "\n",
        "Normal distribution (e.g., human heights).\n",
        "\n",
        "Exponential distribution (e.g., time until next phone call)."
      ],
      "metadata": {
        "id": "UgbRQg7-AKzK"
      }
    },
    {
      "cell_type": "markdown",
      "source": [
        "\n",
        "\n",
        "---\n",
        "\n"
      ],
      "metadata": {
        "id": "MwRLFB6yAteJ"
      }
    },
    {
      "cell_type": "markdown",
      "source": [
        " **What are probability distribution functions (PDF)?**\n",
        "\n",
        " **Answer:** A Probability Distribution Function (PDF) is a function that describes the likelihood of a continuous random variable taking on a particular value or falling within a certain range.\n",
        "\n",
        " ** Key Characteristics of a PDF:**\n",
        "\n",
        "**1. Applies to Continuous Random Variables**\n",
        "\n",
        "It gives the relative likelihood for the variable to be near a particular value, but not the exact probability of any single value.\n",
        "\n",
        "**2. Probability over Intervals**\n",
        "\n",
        "The probability that the variable falls within an interval\n",
        "[𝑎,𝑏] [a,b] is given by:\n",
        "\n",
        "**3. Total Area Under the Curve = 1**\n",
        "\n",
        "The entire area under the PDF curve represents the total probability:\n",
        "\n",
        "**4. PDF Value Can Be > 1**\n",
        "\n",
        "Unlike probabilities, the value of the PDF at a point (i.e.,\n",
        "𝑓(𝑥)f(x)) can be greater than 1. It's not a probability, but rather a density.\n",
        "\n",
        "**5. Probability at a Single Point is Zero**\n",
        "\n",
        "For continuous variables, the probability of a specific value is always 0."
      ],
      "metadata": {
        "id": "EFSqKQWjA6j8"
      }
    },
    {
      "cell_type": "markdown",
      "source": [
        "\n",
        "\n",
        "---\n",
        "\n"
      ],
      "metadata": {
        "id": "BOyv7h7oCyrB"
      }
    },
    {
      "cell_type": "markdown",
      "source": [
        "**5. How do cumulative distribution functions (CDF) differ from probability distribution functions (PDF)?**\n",
        "\n",
        "**Answer:** 1. Probability Distribution Function (PDF)\n",
        "Applies to: Continuous random variables\n",
        "\n",
        "Purpose: Describes the density of probability at each point.\n",
        "\n",
        "Notation: 𝑓(𝑥)f(x)\n",
        "\n",
        "Key idea: The height of the curve at point\n",
        "𝑥\n",
        "x, not the probability itself.\n",
        "\n",
        "Used for: Calculating probability over an interval.\n",
        "\n",
        "**2. Cumulative Distribution Function (CDF)**\n",
        "\n",
        "Applies to: Both continuous and discrete random variables\n",
        "\n",
        "Purpose: Gives the probability that a variable is less than or equal to a value\n",
        "\n",
        "Notation: 𝐹(𝑥)F(x)"
      ],
      "metadata": {
        "id": "VSiyc6fiCz4e"
      }
    },
    {
      "cell_type": "markdown",
      "source": [
        "\n",
        "\n",
        "---\n",
        "\n"
      ],
      "metadata": {
        "id": "HsHfnFadDhhT"
      }
    },
    {
      "cell_type": "markdown",
      "source": [
        "**6.  What is a discrete uniform distribution?**\n",
        "\n",
        "**Answer:** A discrete uniform distribution is a type of probability distribution in which all possible outcomes are equally likely.\n",
        "\n",
        "**Graph (Conceptual):**\n",
        "\n",
        "A bar chart would show equal-height bars for each possible value of\n",
        "𝑋\n",
        "X, indicating uniform probability.\n",
        "\n",
        "Let\n",
        "𝑋\n",
        "X be the outcome of a 6-sided fair die.\n",
        "\n",
        "Possible values:\n",
        "1\n",
        ",\n",
        "2\n",
        ",\n",
        "3\n",
        ",\n",
        "4\n",
        ",\n",
        "5\n",
        ",\n",
        "6\n",
        "1,2,3,4,5,6\n",
        "\n",
        "Since it's fair:"
      ],
      "metadata": {
        "id": "XduYG85gDiqe"
      }
    },
    {
      "cell_type": "markdown",
      "source": [
        "\n",
        "\n",
        "---\n",
        "\n"
      ],
      "metadata": {
        "id": "TGvSmlDjEEOU"
      }
    },
    {
      "cell_type": "markdown",
      "source": [
        "**7.  What are the key properties of a Bernoulli distribution?**\n",
        "\n",
        "**Answer:** A Bernoulli distribution is one of the simplest and most fundamental discrete probability distributions. It models a single trial with two possible outcomes: success or failure.\n",
        "\n",
        "A Bernoulli random variable\n",
        "𝑋\n",
        "X takes only two values:\n",
        "\n",
        "𝑋\n",
        "=\n",
        "1\n",
        "X=1 with probability\n",
        "𝑝\n",
        "p (success)\n",
        "\n",
        "𝑋\n",
        "=\n",
        "0\n",
        "X=0 with probability\n",
        "1\n",
        "−\n",
        "𝑝\n",
        "1−p (failure)"
      ],
      "metadata": {
        "id": "49m68jvAES0g"
      }
    },
    {
      "cell_type": "markdown",
      "source": [
        "\n",
        "\n",
        "---\n",
        "\n"
      ],
      "metadata": {
        "id": "v3sNBh5YEgES"
      }
    },
    {
      "cell_type": "markdown",
      "source": [
        "**8.  What is the binomial distribution, and how is it used in probability?**\n",
        "\n",
        "**Answer:** The binomial distribution is a discrete probability distribution that models the number of successes in a fixed number of independent Bernoulli trials, each with the same probability of success.\n",
        "\n",
        "A random variable\n",
        "𝑋\n",
        "X follows a binomial distribution if:\n",
        "\n",
        "The experiment consists of\n",
        "𝑛\n",
        "n independent trials.\n",
        "\n",
        "Each trial has only two outcomes: success (\n",
        "𝑝\n",
        "p) or failure (\n",
        "1\n",
        "−\n",
        "𝑝\n",
        "1−p).\n",
        "\n",
        "𝑋\n",
        "X counts the number of successes in those\n",
        "𝑛\n",
        "n trials.\n",
        "\n",
        "**Common Applications:**\n",
        "\n",
        "Quality control (e.g., number of defective products in a batch)\n",
        "\n",
        "Medical studies (e.g., number of patients who respond to treatment)\n",
        "\n",
        "Survey sampling (e.g., number of people who say \"yes\" in a poll)\n",
        "\n",
        "Games of chance (e.g., number of times a player wins)\n"
      ],
      "metadata": {
        "id": "HiQIY9ETEvly"
      }
    },
    {
      "cell_type": "markdown",
      "source": [
        "\n",
        "\n",
        "---\n",
        "\n"
      ],
      "metadata": {
        "id": "I2FsD3nTFVFr"
      }
    },
    {
      "cell_type": "markdown",
      "source": [
        "**9.  What is the Poisson distribution and where is it applied?**\n",
        "\n",
        "**Answer:**\n",
        "\n",
        "The Poisson distribution is a discrete probability distribution that models the number of events occurring in a fixed interval of time or space, assuming that:\n",
        "\n",
        "Events occur independently,\n",
        "\n",
        "At a constant average rate,\n",
        "\n",
        "And not simultaneously (rarely at exactly the same instant).\n",
        "\n",
        "A random variable\n",
        "𝑋\n",
        "X follows a Poisson distribution with parameter\n",
        "𝜆\n",
        "λ (lambda), where:\n",
        "\n",
        "𝜆\n",
        "λ = average number of events per interval (rate)\n",
        "\n",
        "𝑋\n",
        "X = number of events in that interval\n",
        "\n",
        "** When to Use the Poisson Distribution:**\n",
        "\n",
        "Use it when you're counting how many times an event happens over:\n",
        "\n",
        "A time period (e.g., per hour, per day)\n",
        "\n",
        "A spatial area (e.g., per square kilometer)\n",
        "\n",
        "A volume or surface (e.g., defects per meter of fabric)\n",
        "\n",
        "**Common Applications:**\n",
        "\n",
        "Number of customer arrivals at a store per hour\n",
        "\n",
        "Number of emails received in an hour\n",
        "\n",
        "Number of phone calls to a call center per minute\n",
        "\n",
        "Number of typing errors per page\n",
        "\n",
        "Number of decay events per second from a radioactive source"
      ],
      "metadata": {
        "id": "ePuPmKxIFWYr"
      }
    },
    {
      "cell_type": "markdown",
      "source": [
        "\n",
        "\n",
        "---\n",
        "\n"
      ],
      "metadata": {
        "id": "YRSvUcGTF8__"
      }
    },
    {
      "cell_type": "markdown",
      "source": [
        "**10. What is a continuous uniform distribution?**\n",
        "\n",
        "**Answer:**\n",
        "\n",
        "A continuous uniform distribution is a probability distribution where all values within a certain interval are equally likely. It is the continuous counterpart to the discrete uniform distribution.\n",
        "\n",
        "**Definition:**\n",
        "\n",
        "If a random variable\n",
        "𝑋\n",
        "X is uniformly distributed over the interval\n",
        "[\n",
        "𝑎\n",
        ",\n",
        "𝑏\n",
        "]\n",
        "[a,b], then its probability density function (PDF) is:\n",
        "\n",
        "** Key Features:**\n",
        "\n",
        "All values between\n",
        "𝑎\n",
        "a and\n",
        "𝑏\n",
        "b are equally probable.\n",
        "\n",
        "The graph of the PDF is a flat horizontal line between\n",
        "𝑎\n",
        "a and\n",
        "𝑏\n",
        "b.\n",
        "\n",
        "The total area under the curve (i.e., total probability) is 1.\n",
        "\n",
        "**Applications:**\n",
        "\n",
        "Random number generation\n",
        "\n",
        "Simulating equal-likelihood outcomes\n",
        "\n",
        "Modeling waiting times when no time is more likely than another (e.g., bus arrival, machine breakdown)\n",
        "\n",
        "\n"
      ],
      "metadata": {
        "id": "SSCSkFWPF_oA"
      }
    },
    {
      "cell_type": "markdown",
      "source": [
        "\n",
        "\n",
        "---\n",
        "\n"
      ],
      "metadata": {
        "id": "9O0ain28Imji"
      }
    },
    {
      "cell_type": "markdown",
      "source": [
        "**11.  What are the characteristics of a normal distribution?**\n",
        "\n",
        "**Answer: **\n",
        "\n",
        "The normal distribution, also known as the Gaussian distribution, is one of the most important and widely used probability distributions in statistics. It models many natural and human-made phenomena.\n",
        "\n",
        "Empirical Rule (68–95–99.7 Rule):\n",
        "For a normal distribution:\n",
        "\n",
        "68% of values lie within\n",
        "𝜇\n",
        "±\n",
        "1\n",
        "𝜎\n",
        "μ±1σ\n",
        "\n",
        "95% lie within\n",
        "𝜇\n",
        "±\n",
        "2\n",
        "𝜎\n",
        "μ±2σ\n",
        "\n",
        "99.7% lie within\n",
        "𝜇\n",
        "±\n",
        "3\n",
        "𝜎\n",
        "μ±3σ\n",
        "\n",
        "Standard Normal Distribution:\n",
        "A special case with\n",
        "𝜇\n",
        "=\n",
        "0\n",
        "μ=0,\n",
        "𝜎\n",
        "=\n",
        "1\n",
        "σ=1\n",
        "\n",
        "Variable is denoted as\n",
        "𝑍\n",
        "Z\n",
        "\n",
        "Useful for z-scores and standardization\n",
        "\n",
        "**Applications:**\n",
        "\n",
        "Heights, weights, blood pressure\n",
        "\n",
        "Test scores and IQ levels\n",
        "\n",
        "Errors in measurements\n",
        "\n",
        "Stock returns (approximate)"
      ],
      "metadata": {
        "id": "Z-GNU_eeIod2"
      }
    },
    {
      "cell_type": "markdown",
      "source": [
        "\n",
        "\n",
        "---\n",
        "\n"
      ],
      "metadata": {
        "id": "r3Cr71NrJq9H"
      }
    },
    {
      "cell_type": "markdown",
      "source": [
        "**12.  What is the standard normal distribution, and why is it important?**\n",
        "\n",
        "**Answer:**\n",
        "\n",
        "The standard normal distribution is a special case of the normal distribution where:\n",
        "\n",
        "The mean\n",
        "𝜇\n",
        "=\n",
        "0\n",
        "μ=0\n",
        "\n",
        "The standard deviation\n",
        "𝜎\n",
        "=\n",
        "1\n",
        "σ=1\n",
        "\n",
        "It is used to standardize data and is a foundational concept in statistics and probability.\n",
        "\n",
        "**Z-score Example:**\n",
        "\n",
        "Suppose a test score\n",
        "𝑋\n",
        "X is normally distributed with\n",
        "𝜇\n",
        "=\n",
        "70\n",
        "μ=70,\n",
        "𝜎\n",
        "=\n",
        "10\n",
        "σ=10. A score of 85 corresponds to\n",
        "\n",
        "**Graph Features:**\n",
        "\n",
        "Symmetric bell curve centered at 0\n",
        "\n",
        "68% of values lie between -1 and 1\n",
        "\n",
        "95% between -2 and 2\n",
        "\n",
        "99.7% between -3 and 3\n",
        "\n"
      ],
      "metadata": {
        "id": "oFKa84e2Jso9"
      }
    },
    {
      "cell_type": "markdown",
      "source": [
        "\n",
        "\n",
        "---\n",
        "\n"
      ],
      "metadata": {
        "id": "WPQl7_bAKGXT"
      }
    },
    {
      "cell_type": "markdown",
      "source": [
        "**13.  What is the Central Limit Theorem (CLT), and why is it critical in statistics?**\n",
        "\n",
        "**Answer:**\n",
        "\n",
        "The Central Limit Theorem (CLT) is one of the most important and powerful concepts in statistics. It explains why the normal distribution is so commonly used, even when the original data is not normally distributed.\n",
        "\n",
        "**Central Limit Theorem (CLT) – Definition:**\n",
        "\n",
        "The CLT states that the sampling distribution of the sample mean will approximate a normal distribution as the sample size becomes large, regardless of the original distribution of the population, provided the population has a finite mean and variance.\n",
        "\n",
        "**In Other Words:**\n",
        "\n",
        "If you:\n",
        "\n",
        "Take a random sample of size\n",
        "𝑛\n",
        "n from any population (with finite mean\n",
        "𝜇\n",
        "μ and standard deviation\n",
        "𝜎\n",
        "σ),\n",
        "\n",
        "Compute the sample mean\n",
        "𝑋\n",
        "ˉ\n",
        "X\n",
        "ˉ\n",
        " ,\n",
        "\n",
        "Repeat this process many times..."
      ],
      "metadata": {
        "id": "cnAKmv5eKH3D"
      }
    },
    {
      "cell_type": "markdown",
      "source": [
        "\n",
        "\n",
        "---\n",
        "\n"
      ],
      "metadata": {
        "id": "gOWWQDsOKy5F"
      }
    },
    {
      "cell_type": "markdown",
      "source": [
        "**14.  How does the Central Limit Theorem relate to the normal distribution?**\n",
        "\n",
        "**Answer:**\n",
        "The Central Limit Theorem (CLT) explains why and when the normal distribution appears in statistics — even if the original data is not normally distributed.\n",
        "\n",
        "**Relationship Between CLT and the Normal Distribution:**\n",
        "\n",
        "As the sample size\n",
        "𝑛\n",
        "n increases, the distribution of the sample mean\n",
        "𝑋\n",
        "ˉ\n",
        "X\n",
        "ˉ\n",
        "  approaches a normal distribution, regardless of the shape of the original population distribution.\n",
        "\n",
        "**  This is critical because it means:**\n",
        "\n",
        " The normal distribution becomes a universal approximation tool for:\n",
        "\n",
        "Averages\n",
        "\n",
        "Totals\n",
        "\n",
        "Proportions (in some cases)\n",
        "\n",
        "\n",
        "**Example:**\n",
        "\n",
        "If daily sales in a shop are heavily skewed, the average daily sales across 50 days will be approximately normally distributed — enabling us to use normal probability techniques.\n",
        "\n",
        "\n",
        "\n"
      ],
      "metadata": {
        "id": "gQx1bm19K0c9"
      }
    },
    {
      "cell_type": "markdown",
      "source": [
        "\n",
        "\n",
        "---\n",
        "\n"
      ],
      "metadata": {
        "id": "17_jmqUzLb8F"
      }
    },
    {
      "cell_type": "markdown",
      "source": [
        "**15.  What is the application of Z statistics in hypothesis testing?**\n",
        "\n",
        "**Answer:**  \n",
        "Z-statistics are used in hypothesis testing when you want to determine whether a sample statistic (like the sample mean or proportion) significantly differs from a known population parameter — under the assumption that the population is normally distributed or the sample size is large (by CLT).\n",
        "\n",
        "**Z-Statistic Definition:**\n",
        "\n",
        "A Z-statistic measures how many standard deviations a sample statistic is from the population mean.\n",
        "\n",
        "**Common Types of Z-Tests:**\n",
        "\n",
        "One-sample Z-test for the mean\n",
        "\n",
        "Test if a sample mean is significantly different from a known population mean\n",
        "\n",
        "One-sample Z-test for proportion\n",
        "\n",
        "Test if a sample proportion differs from a known population proportion\n",
        "\n",
        "Two-sample Z-test\n",
        "\n",
        "Compare two independent sample means or proportions when population variances are known\n",
        "\n",
        "**Steps in Hypothesis Testing Using Z-Statistic:**\n",
        "**State the hypotheses:**\n",
        "\n",
        "Null hypothesis\n",
        "𝐻\n",
        "0\n",
        "H\n",
        "0\n",
        "​\n",
        " :\n",
        "𝜇\n",
        "=\n",
        "𝜇\n",
        "0\n",
        "μ=μ\n",
        "0\n",
        "​\n",
        "\n",
        "\n",
        "Alternative hypothesis\n",
        "𝐻\n",
        "1\n",
        "H\n",
        "1\n",
        "​\n",
        " :\n",
        "𝜇\n",
        "≠\n",
        "𝜇\n",
        "0\n",
        "μ\n",
        "\n",
        "=μ\n",
        "0\n",
        "​\n",
        " ,\n",
        "𝜇\n",
        ">\n",
        "𝜇\n",
        "0\n",
        "μ>μ\n",
        "0\n",
        "​\n",
        " , or\n",
        "𝜇\n",
        "<\n",
        "𝜇\n",
        "0\n",
        "μ<μ\n",
        "0\n",
        "​\n",
        "\n",
        "\n",
        "Choose significance level\n",
        "𝛼\n",
        "α (commonly 0.05)\n",
        "\n",
        "Calculate the Z-statistic using the formula\n",
        "\n",
        "Determine the critical value from the standard normal (Z) table\n",
        "\n",
        "Make a decision:\n",
        "\n",
        "If\n",
        "∣\n",
        "𝑍\n",
        "∣\n",
        ">\n",
        "𝑍\n",
        "critical\n",
        "∣Z∣>Z\n",
        "critical\n",
        "​\n",
        " , reject\n",
        "𝐻\n",
        "0\n",
        "H\n",
        "0\n",
        "​\n",
        "\n",
        "\n",
        "Otherwise, fail to reject\n",
        "𝐻\n",
        "0\n",
        "H\n",
        "0\n",
        "​\n"
      ],
      "metadata": {
        "id": "Vn9B4ySGLdN_"
      }
    },
    {
      "cell_type": "markdown",
      "source": [
        "\n",
        "\n",
        "---\n",
        "\n"
      ],
      "metadata": {
        "id": "kiVnLPfaMcmL"
      }
    },
    {
      "cell_type": "markdown",
      "source": [
        "**16.  How do you calculate a Z-score, and what does it represent?**\n",
        "\n",
        "**Answer:**\n",
        "\n",
        "A Z-score tells you how many standard deviations a value is from the mean. It's a way to standardize different data points and compare them, even if they come from different distributions.\n",
        "\n",
        "Z = 0 → Value is exactly at the mean\n",
        "\n",
        "Z > 0 → Value is above the mean\n",
        "\n",
        "Z < 0 → Value is below the mean\n",
        "\n",
        "Z = +2 → Value is 2 standard deviations above the mean\n",
        "\n",
        "Z = –1.5 → Value is 1.5 standard deviations below the mean\n",
        "\n",
        "Compare scores from different distributions.\n",
        "Detect outliers (e.g., Z-scores above +3 or below –3).\n",
        "Calculate probabilities using the standard normal distribution.\n",
        "Standardize data for machine learning or statistics."
      ],
      "metadata": {
        "id": "edvGxMRxMq-9"
      }
    },
    {
      "cell_type": "markdown",
      "source": [
        "\n",
        "\n",
        "---\n",
        "\n"
      ],
      "metadata": {
        "id": "3diiuauONd-Y"
      }
    },
    {
      "cell_type": "markdown",
      "source": [
        "**17.  What are point estimates and interval estimates in statistics?**\n",
        "\n",
        "**Answer:**\n",
        "\n",
        "Both point estimates and interval estimates are methods used to infer population parameters (like mean or proportion) from a sample. They differ in how much information they provide.\n",
        "\n",
        " **Interval Estimate:**\n",
        "\n",
        "An interval estimate provides a range (interval) within which the population parameter is likely to fall, along with a confidence level.\n",
        "\n",
        " Example:\n",
        "\"We are 95% confident that the true population mean lies between 72.4 and 77.6.\"\n",
        "\n"
      ],
      "metadata": {
        "id": "Rh1-35zZNfQl"
      }
    },
    {
      "cell_type": "markdown",
      "source": [
        "\n",
        "\n",
        "---\n",
        "\n"
      ],
      "metadata": {
        "id": "5epXg0yoOJeY"
      }
    },
    {
      "cell_type": "markdown",
      "source": [
        "**18. What is the significance of confidence intervals in statistical analysis?**\n",
        "\n",
        "**Answer:**\n",
        "\n",
        "A confidence interval (CI) provides a range of values that is likely to contain the true population parameter (e.g., mean or proportion), along with a confidence level (like 95%).\n",
        "\n",
        " **Definition:**\n",
        "\n",
        "A confidence interval is an interval estimate, calculated from sample data, that is likely to contain the true population parameter with a specified level of confidence.\n",
        "\n",
        "**Visual Interpretation:**\n",
        "\n",
        "Imagine a normal curve centered at the sample mean. The confidence interval covers the central area under the curve (like the middle 95%), leaving 2.5% in each tail.\n"
      ],
      "metadata": {
        "id": "iKVabaAIOLLT"
      }
    },
    {
      "cell_type": "markdown",
      "source": [
        "\n",
        "\n",
        "---\n",
        "\n"
      ],
      "metadata": {
        "id": "aj_J2NpZPhgO"
      }
    },
    {
      "cell_type": "markdown",
      "source": [
        "**19.  What is the relationship between a Z-score and a confidence interval?**\n",
        "\n",
        "**Answer:**\n",
        "\n",
        "The Z-score plays a critical role in constructing confidence intervals — especially when the population standard deviation is known and the sample size is large.\n",
        "\n",
        "A confidence interval (CI) is built around a sample statistic (like the sample mean) and uses a Z-score to determine how far the interval should extend based on the desired confidence level.\n",
        "\n"
      ],
      "metadata": {
        "id": "a3vHAhhgPilD"
      }
    },
    {
      "cell_type": "markdown",
      "source": [
        "\n",
        "\n",
        "---\n",
        "\n"
      ],
      "metadata": {
        "id": "lLKffvifQdE2"
      }
    },
    {
      "cell_type": "markdown",
      "source": [
        "**20.  How are Z-scores used to compare different distributions?**\n",
        "\n",
        "**Answer:**\n",
        "Z-scores allow you to standardize values from different distributions so they can be directly compared — even if the original data comes from different scales, units, or distributions.\n",
        "\n",
        "**By converting raw scores into Z-scores, you:**\n",
        "\n",
        "Remove units (dimensionless)\n",
        "\n",
        "Put values on a common scale (the standard normal distribution)\n",
        "\n",
        "Can fairly compare values from different tests, datasets, or populations\n",
        "\n",
        "Standardized testing (e.g., SAT vs ACT)\n",
        "\n",
        "Medical measurements (e.g., comparing cholesterol and blood pressure)\n",
        "\n",
        "Sports analytics (comparing players across different metrics)\n",
        "\n",
        "Grading systems (curve grading)\n",
        "\n",
        "\n"
      ],
      "metadata": {
        "id": "Ipg_euBxQeAm"
      }
    },
    {
      "cell_type": "markdown",
      "source": [
        "\n",
        "\n",
        "---\n",
        "\n"
      ],
      "metadata": {
        "id": "egSr-YdXQ1Ee"
      }
    },
    {
      "cell_type": "markdown",
      "source": [
        "**21.  What are the assumptions for applying the Central Limit Theorem?**\n",
        "\n",
        "**Answer:**\n",
        "\n",
        "The Central Limit Theorem (CLT) is a foundational concept in statistics that allows us to use the normal distribution to model the sampling distribution of the sample mean — even if the population itself is not normal.\n",
        "\n",
        "But for the CLT to apply reliably, certain assumptions must be met:\n",
        "\n",
        "**1. Independence of Observations**\n",
        "\n",
        "The data points (samples) must be independent of one another.\n",
        "\n",
        "This usually means:\n",
        "\n",
        "The sample is collected randomly.\n",
        "\n",
        "If sampling without replacement, the population should be at least 10 times larger than the sample size (the 10% condition).\n",
        "\n",
        "**2. Identically Distributed (i.i.d.) Variables**\n",
        "\n",
        "The random variables should come from the same distribution and have the same mean and variance.\n",
        "\n",
        "This is satisfied when the sample is drawn from a single population.\n",
        "\n",
        "**3. Sample Size Should Be \"Large Enough\"**\n",
        "\n",
        "A larger sample size makes the CLT more reliable.\n",
        "\n",
        "Rule of thumb:\n",
        "\n",
        "If the population is normal, even a small sample (n ≥ 2) is fine.\n",
        "\n",
        "If the population is not normal (e.g., skewed or bimodal), then a sample size of n ≥ 30 is generally considered sufficient.\n",
        "\n",
        "Highly skewed distributions may require even larger samples.\n",
        "\n",
        "**4. Finite Variance**\n",
        "\n",
        "The population from which the sample is drawn must have a finite variance (i.e., the standard deviation must be defined and not infinite).\n",
        "\n",
        "** Visual Intuition:**\n",
        "\n",
        "Even if a population is heavily skewed, the sampling distribution of the mean will begin to look bell-shaped and symmetric as you increase the sample size — thanks to the CLT."
      ],
      "metadata": {
        "id": "COQggLX6Q2Iy"
      }
    },
    {
      "cell_type": "markdown",
      "source": [
        "\n",
        "\n",
        "---\n",
        "\n"
      ],
      "metadata": {
        "id": "5_M8L8A9R43M"
      }
    },
    {
      "cell_type": "markdown",
      "source": [
        "**22.  What is the concept of expected value in a probability distribution? **\n",
        "\n",
        "**Answer:**  \n",
        "\n",
        "The expected value (EV) is a fundamental concept in probability and statistics that represents the long-run average or mean value of a random variable over many repetitions of an experiment.\n",
        "\n",
        "** Definition:**\n",
        "\n",
        "The expected value of a random variable is the weighted average of all possible outcomes, where the weights are the probabilities of each outcome.\n",
        "\n",
        "** Intuition:**\n",
        "\n",
        "The expected value is like the center of gravity of the distribution.\n",
        "\n",
        "It’s what you’d expect to get on average over many trials.\n",
        "\n",
        "**Applications:**\n",
        "\n",
        "Gambling and games of chance\n",
        "\n",
        "Investment analysis (expected returns)\n",
        "\n",
        "Insurance and risk assessment\n",
        "\n",
        "Decision-making under uncertainty\n",
        "\n",
        "**Important Notes:**\n",
        "\n",
        "The expected value does not predict a single outcome, but rather the average over many trials.\n",
        "\n",
        "It may not be a possible outcome (e.g., 3.5 for a die roll).\n",
        "\n"
      ],
      "metadata": {
        "id": "2mtSUt6GSEIS"
      }
    },
    {
      "cell_type": "markdown",
      "source": [
        "\n",
        "\n",
        "---\n",
        "\n"
      ],
      "metadata": {
        "id": "VHRwqaJbSsIG"
      }
    },
    {
      "cell_type": "markdown",
      "source": [
        "**23.  How does a probability distribution relate to the expected outcome of a random variable?**\n",
        "\n",
        "**Answer:**\n",
        "\n",
        "A probability distribution describes all the possible outcomes of a random variable along with the probability of each outcome. The expected outcome (or expected value) is essentially the average result you’d anticipate if the random process were repeated many times — and it is calculated using the probability distribution.\n",
        "\n",
        "**Relationship in Simple Terms:**\n",
        "\n",
        "The expected value is the center or weighted average of a probability distribution.\n",
        "\n",
        "Think of It This Way:\n",
        "The probability distribution gives you:\n",
        "→ “What can happen?” and “How likely is each outcome?”\n",
        "\n",
        "Continuous Case:\n",
        "For a continuous random variable with probability density function\n",
        "𝑓\n",
        "(\n",
        "𝑥\n",
        ")\n",
        "f(x):\n"
      ],
      "metadata": {
        "id": "BW8NZWW1StW7"
      }
    },
    {
      "cell_type": "markdown",
      "source": [
        "\n",
        "\n",
        "---\n",
        "\n"
      ],
      "metadata": {
        "id": "xRnJ5d61Thvt"
      }
    }
  ]
}